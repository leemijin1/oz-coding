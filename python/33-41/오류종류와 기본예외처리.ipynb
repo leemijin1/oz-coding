{
 "cells": [
  {
   "cell_type": "markdown",
   "metadata": {},
   "source": [
    "프로그램 언어 오류에는 크게 두가지\n",
    "    *프로그램 실행 전 발생 오류를 구문 오류\n",
    "    *프로그램 실행 중 발생오류를 얘외 또는 런타임오류"
   ]
  },
  {
   "cell_type": "markdown",
   "metadata": {},
   "source": [
    "[구문오류]\n",
    "    *괄호개수, 들여쓰기 문제 등으로 프로그램 실행되기도 전에 발생하는 오류"
   ]
  },
  {
   "cell_type": "code",
   "execution_count": 1,
   "metadata": {},
   "outputs": [
    {
     "name": "stdout",
     "output_type": "stream",
     "text": [
      "오류\n"
     ]
    }
   ],
   "source": [
    "#구문오류\n",
    "print(\"오류\")"
   ]
  },
  {
   "cell_type": "code",
   "execution_count": 2,
   "metadata": {},
   "outputs": [
    {
     "ename": "SyntaxError",
     "evalue": "unexpected EOF while parsing (1146333632.py, line 2)",
     "output_type": "error",
     "traceback": [
      "\u001b[0;36m  Cell \u001b[0;32mIn[2], line 2\u001b[0;36m\u001b[0m\n\u001b[0;31m    print(\"오류\"\u001b[0m\n\u001b[0m              ^\u001b[0m\n\u001b[0;31mSyntaxError\u001b[0m\u001b[0;31m:\u001b[0m unexpected EOF while parsing\n"
     ]
    }
   ],
   "source": [
    "#닫는 괄호 생략 경우\n",
    "print(\"오류\""
   ]
  },
  {
   "cell_type": "markdown",
   "metadata": {},
   "source": [
    "[예외]\n",
    "    *예외 또는 런타임 오류는 실행 중에 발생"
   ]
  },
  {
   "cell_type": "code",
   "execution_count": 3,
   "metadata": {},
   "outputs": [
    {
     "name": "stdout",
     "output_type": "stream",
     "text": [
      "강아지\n"
     ]
    },
    {
     "ename": "NameError",
     "evalue": "name 'dogs' is not defined",
     "output_type": "error",
     "traceback": [
      "\u001b[0;31m---------------------------------------------------------------------------\u001b[0m",
      "\u001b[0;31mNameError\u001b[0m                                 Traceback (most recent call last)",
      "Cell \u001b[0;32mIn[3], line 4\u001b[0m\n\u001b[1;32m      2\u001b[0m \u001b[38;5;28mprint\u001b[39m(\u001b[38;5;124m\"\u001b[39m\u001b[38;5;124m강아지\u001b[39m\u001b[38;5;124m\"\u001b[39m)\n\u001b[1;32m      3\u001b[0m \u001b[38;5;66;03m#예외발생\u001b[39;00m\n\u001b[0;32m----> 4\u001b[0m \u001b[43mdogs\u001b[49m\u001b[38;5;241m.\u001b[39mappend(\u001b[38;5;124m\"\u001b[39m\u001b[38;5;124m포메\u001b[39m\u001b[38;5;124m\"\u001b[39m)\n",
      "\u001b[0;31mNameError\u001b[0m: name 'dogs' is not defined"
     ]
    }
   ],
   "source": [
    "#정상 실행\n",
    "print(\"강아지\")\n",
    "#예외발생\n",
    "dogs.append(\"포메\")"
   ]
  },
  {
   "cell_type": "code",
   "execution_count": 6,
   "metadata": {},
   "outputs": [
    {
     "name": "stdout",
     "output_type": "stream",
     "text": [
      "강아지\n",
      "['말티즈', '푸들', '포메']\n"
     ]
    }
   ],
   "source": [
    "#정상 실행\n",
    "print(\"강아지\")\n",
    "#예외발생\n",
    "dogs=[\"말티즈\",\"푸들\"]\n",
    "dogs.append(\"포메\")\n",
    "print(dogs)"
   ]
  },
  {
   "cell_type": "markdown",
   "metadata": {},
   "source": [
    "[기본예외처리]\n",
    "예외를 해결하는 모든 것을 예외처리\n",
    "    조건문 사용\n",
    "    try구문 사용\n",
    "단, 구문 오류 발생하는 경우 예외처리 불가. 코드 자체를 수정하는 방법으로 해결\n",
    "\n",
    "[조건문을 이용한 예외처리]\n",
    "    조건문을 이용한 예외처리법을 기본 얘외처리라고 함\n",
    "예외가 발생할 수 있는 상황을 파악하는게 우선."
   ]
  },
  {
   "cell_type": "code",
   "execution_count": 9,
   "metadata": {},
   "outputs": [
    {
     "name": "stdout",
     "output_type": "stream",
     "text": [
      "삼각형의 넓이는 7.5입니다.\n"
     ]
    }
   ],
   "source": [
    "x,y=map(int,input(\"밑변과 높이를 입력해라\").split(\",\"))\n",
    "\n",
    "print(f'삼각형의 넓이는 {x*y/2}입니다.')"
   ]
  },
  {
   "cell_type": "code",
   "execution_count": 10,
   "metadata": {},
   "outputs": [
    {
     "ename": "ValueError",
     "evalue": "invalid literal for int() with base 10: '3cm'",
     "output_type": "error",
     "traceback": [
      "\u001b[0;31m---------------------------------------------------------------------------\u001b[0m",
      "\u001b[0;31mValueError\u001b[0m                                Traceback (most recent call last)",
      "Cell \u001b[0;32mIn[10], line 2\u001b[0m\n\u001b[1;32m      1\u001b[0m \u001b[38;5;66;03m#x=3cm,y=5cm\u001b[39;00m\n\u001b[0;32m----> 2\u001b[0m x,y\u001b[38;5;241m=\u001b[39m\u001b[38;5;28mmap\u001b[39m(\u001b[38;5;28mint\u001b[39m,\u001b[38;5;28minput\u001b[39m(\u001b[38;5;124m\"\u001b[39m\u001b[38;5;124m밑변과 높이를 입력해라\u001b[39m\u001b[38;5;124m\"\u001b[39m)\u001b[38;5;241m.\u001b[39msplit(\u001b[38;5;124m\"\u001b[39m\u001b[38;5;124m,\u001b[39m\u001b[38;5;124m\"\u001b[39m))\n\u001b[1;32m      4\u001b[0m \u001b[38;5;28mprint\u001b[39m(\u001b[38;5;124mf\u001b[39m\u001b[38;5;124m'\u001b[39m\u001b[38;5;124m삼각형의 넓이는 \u001b[39m\u001b[38;5;132;01m{\u001b[39;00mx\u001b[38;5;241m*\u001b[39my\u001b[38;5;241m/\u001b[39m\u001b[38;5;241m2\u001b[39m\u001b[38;5;132;01m}\u001b[39;00m\u001b[38;5;124m입니다.\u001b[39m\u001b[38;5;124m'\u001b[39m)\n",
      "\u001b[0;31mValueError\u001b[0m: invalid literal for int() with base 10: '3cm'"
     ]
    }
   ],
   "source": [
    "#x=3cm,y=5cm\n",
    "x,y=map(int,input(\"밑변과 높이를 입력해라\").split(\",\"))\n",
    "\n",
    "print(f'삼각형의 넓이는 {x*y/2}입니다.')"
   ]
  },
  {
   "cell_type": "markdown",
   "metadata": {},
   "source": [
    "정수를 입력하지 않아 발생한 오류에 대해 조건으로 구분해서 다른 처리를 할 수 있도록 코드를 수정\n",
    "조건문에 사용할 함수는 isdigit()이다.\n",
    "    *isdigit(): 숫자로만 구성되어있는 글자인지를 판단하고 숫자로 변환이 가능한 글자라면 true를 반환한다.\n",
    "\n",
    "예) num=\"3\"\n",
    "isdigit(num)->true"
   ]
  },
  {
   "cell_type": "code",
   "execution_count": 15,
   "metadata": {},
   "outputs": [
    {
     "name": "stdout",
     "output_type": "stream",
     "text": [
      "정수로 입력하지 않아 계산이 불가합니다.\n"
     ]
    }
   ],
   "source": [
    "x,y=input(\"밑변과 높이를 입력해라\").split(\",\")\n",
    "\n",
    "if x.isdigit() and y.isdigit():\n",
    "    x,y=int(x),int(y)\n",
    "    print(f'삼각형의 넓이는 {x*y/2}입니다.')\n",
    "else:\n",
    "    print(\"정수로 입력하지 않아 계산이 불가합니다.\")"
   ]
  },
  {
   "cell_type": "markdown",
   "metadata": {},
   "source": []
  },
  {
   "cell_type": "markdown",
   "metadata": {},
   "source": [
    "* 오류의 종류\n",
    "* 오류 종류별로 해결하라 수 있는 방법\n",
    "* isdigit()함수"
   ]
  }
 ],
 "metadata": {
  "kernelspec": {
   "display_name": "Python 3",
   "language": "python",
   "name": "python3"
  },
  "language_info": {
   "codemirror_mode": {
    "name": "ipython",
    "version": 3
   },
   "file_extension": ".py",
   "mimetype": "text/x-python",
   "name": "python",
   "nbconvert_exporter": "python",
   "pygments_lexer": "ipython3",
   "version": "3.9.6"
  }
 },
 "nbformat": 4,
 "nbformat_minor": 2
}
