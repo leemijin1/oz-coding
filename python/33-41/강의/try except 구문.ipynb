{
 "cells": [
  {
   "cell_type": "code",
   "execution_count": null,
   "metadata": {},
   "outputs": [],
   "source": [
    "[tryexcept 구문]\n",
    "    * 모든 예외처리 사항을 조건문으로 처리하는건 굉장히 어려움 귀찮음\n",
    "    * try except 구문으로 얘외처리 진행\n",
    "\n",
    "try:\n",
    "    예외가 발생할 가능성이 있는 코드\n",
    "except:\n",
    "    예외가 발생했을 때 실행할 코드"
   ]
  },
  {
   "cell_type": "code",
   "execution_count": null,
   "metadata": {},
   "outputs": [],
   "source": [
    "x,y=input(\"밑변과 높이를 입력해라\").split(\",\")\n",
    "\n",
    "if x.isdigit() and y.isdigit():\n",
    "    x,y=int(x),int(y)\n",
    "    print(f'삼각형의 넓이는 {x*y/2}입니다.')\n",
    "else:\n",
    "    print(\"정수로 입력하지 않아 계산이 불가합니다.\")"
   ]
  },
  {
   "cell_type": "code",
   "execution_count": 2,
   "metadata": {},
   "outputs": [
    {
     "name": "stdout",
     "output_type": "stream",
     "text": [
      "삼각형의 넓이는 7.5입니다.\n"
     ]
    }
   ],
   "source": [
    "try :\n",
    "    x,y=map(int,input(\"밑변과 높이를 입력해라\").split(\",\"))\n",
    "    print(f'삼각형의 넓이는 {x*y/2}입니다.')\n",
    "except:\n",
    "    print(\"정수로 입력하지 않아 계산이 불가합니다.\")"
   ]
  },
  {
   "cell_type": "markdown",
   "metadata": {},
   "source": [
    "try except 구문과 pass키워드 조합 구조\n",
    "    *예외가 발생해도 당장 처리하지 않아도 되는 부분이라면 pass 키워드를 사용\n",
    "\n",
    "try:\n",
    "    예외 발생할 가능성\n",
    "except:\n",
    "    pass"
   ]
  },
  {
   "cell_type": "code",
   "execution_count": 6,
   "metadata": {},
   "outputs": [
    {
     "name": "stdout",
     "output_type": "stream",
     "text": [
      "['1', '2', '3', '스파이', '4']내부에 있는 숫자는\n",
      "['1', '2', '3', '4']입니다.\n"
     ]
    }
   ],
   "source": [
    "list_input=[\"1\",\"2\",\"3\",\"스파이\",\"4\"]\n",
    "list_number=[]\n",
    "\n",
    "for item in list_input:\n",
    "    try:\n",
    "        int(item)\n",
    "        list_number.append(item)\n",
    "    except:\n",
    "        pass\n",
    "\n",
    "print(f'{list_input}내부에 있는 숫자는')\n",
    "print(f'{list_number}입니다.')\n"
   ]
  },
  {
   "cell_type": "code",
   "execution_count": 7,
   "metadata": {},
   "outputs": [
    {
     "name": "stdout",
     "output_type": "stream",
     "text": [
      "삼각형의 넓이는 7.5입니다.\n"
     ]
    }
   ],
   "source": [
    "try:\n",
    "    x,y=map(int,input(\"밑변과 높이를 입력해주세요.\").split(\",\"))\n",
    "except:\n",
    "    print(\"정수로 입력하지 않아 계산이 불가합니다.\")\n",
    "else:\n",
    "    print(f'삼각형의 넓이는 {x*y/2}입니다.')"
   ]
  },
  {
   "cell_type": "markdown",
   "metadata": {},
   "source": [
    "finally 구문\n",
    "    * 예외가 발생할 가능성이 있는 코드\n",
    "    * 예외가 발생하든 발생하지 않든 무조건 실행\n",
    "\n",
    "try: \n",
    "    예외가 발생할 가능성이 있는 코드\n",
    "except:\n",
    "    예외가 발생했을 떼 실행할 코드\n",
    "else:\n",
    "    예외가 발생하지 않았을 때 실행할 코드\n",
    "finally:\n",
    "    무조건 실행할 코드\n"
   ]
  },
  {
   "cell_type": "code",
   "execution_count": 8,
   "metadata": {},
   "outputs": [
    {
     "name": "stdout",
     "output_type": "stream",
     "text": [
      "삼각형의 넓이는 7.5입니다.\n",
      "프로그램이 종료되었습니다.\n"
     ]
    }
   ],
   "source": [
    "try:\n",
    "    x,y=map(int,input(\"밑변과 높이를 입력해주세요.\").split(\",\"))\n",
    "except:\n",
    "    print(\"정수로 입력하지 않아 계산이 불가합니다.\")\n",
    "else:\n",
    "    print(f'삼각형의 넓이는 {x*y/2}입니다.')\n",
    "finally:\n",
    "    print(\"프로그램이 종료되었습니다.\")"
   ]
  },
  {
   "cell_type": "markdown",
   "metadata": {},
   "source": [
    "참고로 return 구문으로 함수를 빠져나와도 finally 구문이 있다면 실행\n",
    "또한 반복문의 break 문을 만나 빠져나와도 finally 구문이 있다면 실행\n",
    "\n",
    "try,except,finally 구문의 조합 규칙\n",
    "    * try-except\n",
    "    * try-except-else\n",
    "    * try-except-else-finally\n",
    "    * try-finally\n",
    "\n",
    "* try-except 구문 사용 이유와 방법\n",
    "* finally 구문의 기능과 특징"
   ]
  }
 ],
 "metadata": {
  "kernelspec": {
   "display_name": "Python 3",
   "language": "python",
   "name": "python3"
  },
  "language_info": {
   "codemirror_mode": {
    "name": "ipython",
    "version": 3
   },
   "file_extension": ".py",
   "mimetype": "text/x-python",
   "name": "python",
   "nbconvert_exporter": "python",
   "pygments_lexer": "ipython3",
   "version": "3.9.6"
  }
 },
 "nbformat": 4,
 "nbformat_minor": 2
}
