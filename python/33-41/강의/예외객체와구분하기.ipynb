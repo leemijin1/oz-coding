{
 "cells": [
  {
   "cell_type": "markdown",
   "metadata": {},
   "source": [
    "* Exception 을 사용하면 예외의 종류에 대해 알 수 있다."
   ]
  },
  {
   "cell_type": "code",
   "execution_count": 4,
   "metadata": {},
   "outputs": [
    {
     "name": "stdout",
     "output_type": "stream",
     "text": [
      "type(exception): <class 'ValueError'>\n",
      "exception: invalid literal for int() with base 10: '3cm'\n"
     ]
    }
   ],
   "source": [
    "try :\n",
    "    x,y=map(int,input(\"밑변과 높이를 입력해라\").split(\",\"))\n",
    "    print(f'삼각형의 넓이는 {x*y/2}입니다.')\n",
    "except Exception as exception:\n",
    "    print(\"type(exception):\",type(exception))\n",
    "    print(\"exception:\",exception)\n"
   ]
  },
  {
   "cell_type": "code",
   "execution_count": 6,
   "metadata": {},
   "outputs": [
    {
     "name": "stdout",
     "output_type": "stream",
     "text": [
      "type(exception): <class 'ValueError'>\n",
      "exception: invalid literal for int() with base 10: '3,5'\n"
     ]
    }
   ],
   "source": [
    "numbers = [23,11,7,4,12]\n",
    "\n",
    "try:\n",
    "    number_input=int(input(\"갖고싶은 값의 위치를 입력해주세요\"))\n",
    "    print(f'{number_input}번째 요소:{numbers[number_input]}')\n",
    "except Exception as exception:\n",
    "    print(\"type(exception):\",type(exception))\n",
    "    print(\"exception:\",exception)\n"
   ]
  }
 ],
 "metadata": {
  "kernelspec": {
   "display_name": "Python 3",
   "language": "python",
   "name": "python3"
  },
  "language_info": {
   "codemirror_mode": {
    "name": "ipython",
    "version": 3
   },
   "file_extension": ".py",
   "mimetype": "text/x-python",
   "name": "python",
   "nbconvert_exporter": "python",
   "pygments_lexer": "ipython3",
   "version": "3.9.6"
  }
 },
 "nbformat": 4,
 "nbformat_minor": 2
}
