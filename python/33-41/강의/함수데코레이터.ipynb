{
 "cells": [
  {
   "cell_type": "code",
   "execution_count": 1,
   "metadata": {},
   "outputs": [
    {
     "name": "stdout",
     "output_type": "stream",
     "text": [
      "코딩 어려워\n"
     ]
    }
   ],
   "source": [
    "def oz():\n",
    "    print(\"코딩 어려워\")\n",
    "\n",
    "oz()"
   ]
  },
  {
   "cell_type": "code",
   "execution_count": 2,
   "metadata": {},
   "outputs": [
    {
     "name": "stdout",
     "output_type": "stream",
     "text": [
      "오늘 저녁 뭐먹지\n",
      "코딩 어려워\n",
      "모르겠당\n"
     ]
    }
   ],
   "source": [
    "def test(function):\n",
    "    def wrapper():\n",
    "        print(\"오늘 저녁 뭐먹지\")\n",
    "        function()\n",
    "        print(\"모르겠당\")\n",
    "    return wrapper\n",
    "\n",
    "@test\n",
    "def oz():\n",
    "    print(\"코딩 어려워\")\n",
    "\n",
    "oz()"
   ]
  }
 ],
 "metadata": {
  "kernelspec": {
   "display_name": "Python 3",
   "language": "python",
   "name": "python3"
  },
  "language_info": {
   "codemirror_mode": {
    "name": "ipython",
    "version": 3
   },
   "file_extension": ".py",
   "mimetype": "text/x-python",
   "name": "python",
   "nbconvert_exporter": "python",
   "pygments_lexer": "ipython3",
   "version": "3.9.6"
  }
 },
 "nbformat": 4,
 "nbformat_minor": 2
}
