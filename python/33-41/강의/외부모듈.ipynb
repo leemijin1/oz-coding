{
 "cells": [
  {
   "cell_type": "code",
   "execution_count": null,
   "metadata": {},
   "outputs": [],
   "source": [
    "from urlllib import request\n",
    "from bs4 import BeautifulSoup\n",
    "target = request.urlopen(\"\")"
   ]
  }
 ],
 "metadata": {
  "language_info": {
   "name": "python"
  }
 },
 "nbformat": 4,
 "nbformat_minor": 2
}
