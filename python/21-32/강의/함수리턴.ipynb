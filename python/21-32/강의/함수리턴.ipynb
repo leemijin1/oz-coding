{
 "cells": [
  {
   "cell_type": "markdown",
   "metadata": {},
   "source": [
    "return 키워드 : 함수를 실행한 위치로 되돌아 감. 일반적으로 함수가 끝나는 위치에 return을 사용함"
   ]
  },
  {
   "cell_type": "code",
   "execution_count": 2,
   "metadata": {},
   "outputs": [
    {
     "name": "stdout",
     "output_type": "stream",
     "text": [
      "안녕\n",
      "달퐁\n"
     ]
    }
   ],
   "source": [
    "# 값 없이 리턴하는 경우\n",
    "\n",
    "#1.함수정의\n",
    "def oz_return():  #3.함수실행\n",
    "    print(\"안녕\")   #4.print()함수실행\n",
    "    print(\"달퐁\")   #5.print()함수실행\n",
    "    return         #6.return 키워드 만나 함수 호출했던 위치로 이동하며 힘수 종료\n",
    "    print(\"귀여워\")\n",
    "\n",
    "oz_return() #2.함수호출\n",
    "            #7.함수 호출한 위치로 이동"
   ]
  },
  {
   "cell_type": "markdown",
   "metadata": {},
   "source": [
    "1.oz_return()으로 함수를 호출하면 함수인 코드가 위에서부터 하나씩 실행됨\n",
    "2.세번째에서 return을 만나 oz_return()으로 함수를 호출했던 그 위치로 돌아감"
   ]
  },
  {
   "cell_type": "code",
   "execution_count": null,
   "metadata": {},
   "outputs": [],
   "source": [
    "#값과 함께 리턴하는 경우\n",
    "\n",
    "def oz_return():\n",
    "    return \"안녕 달퐁\" #단순히 문자열이라 이것만으로는 출력이 안됨\n",
    "\n",
    "result=oz_return() #반환값을 리절트라는 변수에 집어넣고\n",
    "print(result) #출력해줌"
   ]
  },
  {
   "cell_type": "code",
   "execution_count": 4,
   "metadata": {},
   "outputs": [
    {
     "name": "stdout",
     "output_type": "stream",
     "text": [
      "None\n"
     ]
    }
   ],
   "source": [
    "#아무것도 리턴하지 않는 경우\n",
    "def oz_return():\n",
    "    return\n",
    "\n",
    "result=oz_return()\n",
    "print(result)"
   ]
  },
  {
   "cell_type": "markdown",
   "metadata": {},
   "source": [
    "None: 아무것도 없다. bool()함수를 이용할 경우 False로 간주됨."
   ]
  },
  {
   "cell_type": "code",
   "execution_count": 5,
   "metadata": {},
   "outputs": [
    {
     "data": {
      "text/plain": [
       "False"
      ]
     },
     "execution_count": 5,
     "metadata": {},
     "output_type": "execute_result"
    }
   ],
   "source": [
    "bool(None)"
   ]
  },
  {
   "cell_type": "markdown",
   "metadata": {},
   "source": [
    "input() 함수"
   ]
  },
  {
   "cell_type": "code",
   "execution_count": 1,
   "metadata": {},
   "outputs": [],
   "source": [
    "result=input(\"1+1은?\")\n",
    "\n",
    "print(result)"
   ]
  },
  {
   "cell_type": "markdown",
   "metadata": {},
   "source": [
    "input() 함수는 값을 입력받을 수 있게 해주는 기능을 가지고 있다.\n",
    "return이라는 개념을 넣어서 이 과정을 설명해보자\n",
    "\n",
    "input()함수는 입력받은 값을 문자열로 돌려준다. \n",
    "여기서 돌려준다는 것은 return해주는 것을 의미\n",
    "\n",
    "그렇기 때문에 input()을 통해 입력받은 값을 변수에 담아 사용할 수 있다.\n",
    "대부분 무엇인가 반환하는 함수들은 return을 사용한다.\n",
    "예) type(),str(),int() 등\n"
   ]
  }
 ],
 "metadata": {
  "kernelspec": {
   "display_name": "Python 3",
   "language": "python",
   "name": "python3"
  },
  "language_info": {
   "codemirror_mode": {
    "name": "ipython",
    "version": 3
   },
   "file_extension": ".py",
   "mimetype": "text/x-python",
   "name": "python",
   "nbconvert_exporter": "python",
   "pygments_lexer": "ipython3",
   "version": "3.9.6"
  }
 },
 "nbformat": 4,
 "nbformat_minor": 2
}
