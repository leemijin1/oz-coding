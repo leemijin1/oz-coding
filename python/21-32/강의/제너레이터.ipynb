{
 "cells": [
  {
   "cell_type": "markdown",
   "metadata": {},
   "source": [
    "제너레이터는 이터레이터를 생성하는 객체이다.\n",
    "(이터레이터: 순ㄴ서대로 다음 값을 리턴할 수 있는 객체로 자체적으로 내장하고 있는 next 메소드를 통해 다음 값을 가져 올수 있다.)\n",
    "제너레이터는 함수안에 yield 키워드를 사용해 만들 수 있다.\n",
    "큭이하게 함수 안에 yield라는 키워드가 어떤 동작을 하든 하지 않든 있기만 해도 제너레이터로 인식\n",
    "단, 제너레이터 함수가 되면 호출해도 함수 내부의 코드가 작동하지 않는다."
   ]
  },
  {
   "cell_type": "code",
   "execution_count": 1,
   "metadata": {},
   "outputs": [
    {
     "name": "stdout",
     "output_type": "stream",
     "text": [
      "첫번쨰 출력\n",
      "두번째 출력\n",
      "<generator object test at 0x110e87a50>\n"
     ]
    }
   ],
   "source": [
    "def test():\n",
    "    print(\"제너레이터 실습 코드\")\n",
    "    yield \"test\"\n",
    "\n",
    "print(\"첫번쨰 출력\")\n",
    "test()\n",
    "\n",
    "print(\"두번째 출력\")\n",
    "test()\n",
    "\n",
    "print(test())"
   ]
  },
  {
   "cell_type": "markdown",
   "metadata": {},
   "source": [
    "기존대로라면 test() 함수를 호출하면 제너레이터 실습 코드입니다가 출력되어야 하나 출력되지 않았다.\n",
    "test() 함수안에 yield 키워드로 인해 제어레이터 함수가 되었고\n",
    "그로 인해 함수를 호출해도 함수 내부의 코드가 실행되지 않는 것.\n",
    "그러나 print()문으로 test()함수를 출력해보면 제너레이터로 출력된다. \n",
    "제너레이터는 어떻게 실행 할 수 있을까?\n",
    "제너레이터 객체는 next() 함수를 사용해 함수 내부 코드를 실행 할 수 있다. \n",
    "next() 함수를 실행하면 yield 키워드 부분싸지만 실행이 된다. "
   ]
  },
  {
   "cell_type": "code",
   "execution_count": 2,
   "metadata": {},
   "outputs": [
    {
     "name": "stdout",
     "output_type": "stream",
     "text": [
      "네번째 출력\n",
      "첫번째 출력\n",
      "1\n",
      "다섯번째 출력\n",
      "두번쩨 출력\n",
      "2\n",
      "여섯번째 출력\n",
      "세번째 출력\n"
     ]
    },
    {
     "ename": "StopIteration",
     "evalue": "",
     "output_type": "error",
     "traceback": [
      "\u001b[0;31m---------------------------------------------------------------------------\u001b[0m",
      "\u001b[0;31mStopIteration\u001b[0m                             Traceback (most recent call last)",
      "Cell \u001b[0;32mIn[2], line 17\u001b[0m\n\u001b[1;32m     15\u001b[0m \u001b[38;5;28mprint\u001b[39m(y)\n\u001b[1;32m     16\u001b[0m \u001b[38;5;28mprint\u001b[39m(\u001b[38;5;124m\"\u001b[39m\u001b[38;5;124m여섯번째 출력\u001b[39m\u001b[38;5;124m\"\u001b[39m)\n\u001b[0;32m---> 17\u001b[0m z\u001b[38;5;241m=\u001b[39m\u001b[38;5;28;43mnext\u001b[39;49m\u001b[43m(\u001b[49m\u001b[43moutput\u001b[49m\u001b[43m)\u001b[49m\n\u001b[1;32m     18\u001b[0m \u001b[38;5;28mprint\u001b[39m(z)\n",
      "\u001b[0;31mStopIteration\u001b[0m: "
     ]
    }
   ],
   "source": [
    "def test():\n",
    "    print(\"첫번째 출력\")\n",
    "    yield 1\n",
    "    print(\"두번쩨 출력\")\n",
    "    yield 2\n",
    "    print(\"세번째 출력\")\n",
    "\n",
    "output = test()\n",
    "print(\"네번째 출력\")\n",
    "\n",
    "x=next(output)\n",
    "print(x)\n",
    "print(\"다섯번째 출력\")\n",
    "y = next(output)\n",
    "print(y)\n",
    "print(\"여섯번째 출력\")\n",
    "z=next(output)\n",
    "print(z)"
   ]
  },
  {
   "cell_type": "markdown",
   "metadata": {},
   "source": [
    "위 실행 결과를 보면 next()함수를 만나면 yield 키워드를 만날때 까지 실행된다.\n",
    "첫번째 yield 1을 만나기 전까지 첫번째 출력이라는 print문이 작동하고 yield의 값 1이 리턴된다.\n",
    "\n",
    "이후 세번째 next(output)이 실행되는데 test()함수안에 yield가 2개 밖에 없기 때문에 세번째 Stopiteration이라는 예외가 발생\n",
    "\n",
    "제너레이터는 언제 사용하는가\n",
    "위처럼 조금 실행해야되는 상황에서 자주 사용\n",
    "\n",
    "조금씩 실행시키게 되면 함수 전체를 실행하지 않아도 되기 때문에 메모리를 효율적으로 사용할 수 있다.\n",
    "\n",
    "* 이터레이터와 제너레이터\n",
    "* 제너레이터 함수를 만드는 방법\n",
    "* 제너레이터 함수를 실행하는 방법"
   ]
  }
 ],
 "metadata": {
  "kernelspec": {
   "display_name": "Python 3",
   "language": "python",
   "name": "python3"
  },
  "language_info": {
   "codemirror_mode": {
    "name": "ipython",
    "version": 3
   },
   "file_extension": ".py",
   "mimetype": "text/x-python",
   "name": "python",
   "nbconvert_exporter": "python",
   "pygments_lexer": "ipython3",
   "version": "3.9.6"
  }
 },
 "nbformat": 4,
 "nbformat_minor": 2
}
