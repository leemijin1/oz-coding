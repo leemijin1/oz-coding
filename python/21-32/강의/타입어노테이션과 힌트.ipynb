{
 "cells": [
  {
   "cell_type": "code",
   "execution_count": 1,
   "metadata": {},
   "outputs": [
    {
     "data": {
      "text/plain": [
       "1000"
      ]
     },
     "execution_count": 1,
     "metadata": {},
     "output_type": "execute_result"
    }
   ],
   "source": [
    "#직육면체 부피 구하는 함수\n",
    "def oz(x,y,h):\n",
    "    #tyoe:(int,int,int)-->int\n",
    "    return x * y * h\n",
    "\n",
    "oz(10,10,10)"
   ]
  },
  {
   "cell_type": "code",
   "execution_count": 2,
   "metadata": {},
   "outputs": [
    {
     "data": {
      "text/plain": [
       "1000"
      ]
     },
     "execution_count": 2,
     "metadata": {},
     "output_type": "execute_result"
    }
   ],
   "source": [
    "#직육면체 부피 구하는 함수\n",
    "def oz(x:int,y:int,h:int)->int:\n",
    "    return x * y * h\n",
    "\n",
    "oz(10,10,10)"
   ]
  },
  {
   "cell_type": "code",
   "execution_count": 5,
   "metadata": {},
   "outputs": [
    {
     "name": "stdout",
     "output_type": "stream",
     "text": [
      "hunt\n"
     ]
    }
   ],
   "source": [
    "# 변수 타입 어노테이션 사용법\n",
    "my_dog:str=\"hunt\"\n",
    "my_dog_age:int=7\n",
    "\n",
    "dogs:list[str]=[\"닥스훈트\",\"시바견\",\"웰시코기\",\"포메라니안\"]\n",
    "\n",
    "dogs:dict[str,int]={\n",
    "    \"닥스훈트\":7,\n",
    "    \"시바견\":5,\n",
    "    \"웰시코기\":6,\n",
    "    \"포메라니안\":3,\n",
    "}\n",
    "\n",
    "print(my_dog)"
   ]
  },
  {
   "cell_type": "code",
   "execution_count": null,
   "metadata": {},
   "outputs": [],
   "source": [
    "def hunt(name:str)->str:\n",
    "    return name[0]\n",
    "def hunt_info(name:str,age:int=7)->str:\n",
    "    return name + str(age)\n",
    "def hunt_happy_time(name:str) -> None:\n",
    "    print(\"간식중에\"+name)\n",
    "def hunt_bow(message:str,times:int=10)->list[str]:\n",
    "    return[message]*times"
   ]
  }
 ],
 "metadata": {
  "kernelspec": {
   "display_name": "Python 3",
   "language": "python",
   "name": "python3"
  },
  "language_info": {
   "codemirror_mode": {
    "name": "ipython",
    "version": 3
   },
   "file_extension": ".py",
   "mimetype": "text/x-python",
   "name": "python",
   "nbconvert_exporter": "python",
   "pygments_lexer": "ipython3",
   "version": "3.9.6"
  }
 },
 "nbformat": 4,
 "nbformat_minor": 2
}
