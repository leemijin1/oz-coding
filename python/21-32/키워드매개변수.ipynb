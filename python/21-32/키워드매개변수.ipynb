{
 "cells": [
  {
   "cell_type": "code",
   "execution_count": 3,
   "metadata": {},
   "outputs": [
    {
     "ename": "TypeError",
     "evalue": "'str' object cannot be interpreted as an integer",
     "output_type": "error",
     "traceback": [
      "\u001b[0;31m---------------------------------------------------------------------------\u001b[0m",
      "\u001b[0;31mTypeError\u001b[0m                                 Traceback (most recent call last)",
      "Cell \u001b[0;32mIn[3], line 9\u001b[0m\n\u001b[1;32m      6\u001b[0m             \u001b[38;5;28mprint\u001b[39m(value)\n\u001b[1;32m      7\u001b[0m         \u001b[38;5;28mprint\u001b[39m()\n\u001b[0;32m----> 9\u001b[0m \u001b[43moz\u001b[49m\u001b[43m(\u001b[49m\u001b[38;5;124;43m\"\u001b[39;49m\u001b[38;5;124;43m기본 매개변수 다음에\u001b[39;49m\u001b[38;5;124;43m\"\u001b[39;49m\u001b[43m,\u001b[49m\u001b[38;5;124;43m\"\u001b[39;49m\u001b[38;5;124;43m가변 매개변수를\u001b[39;49m\u001b[38;5;124;43m\"\u001b[39;49m\u001b[43m,\u001b[49m\u001b[38;5;124;43m\"\u001b[39;49m\u001b[38;5;124;43m넣을 수 있을까요?\u001b[39;49m\u001b[38;5;124;43m\"\u001b[39;49m\u001b[43m)\u001b[49m\n",
      "Cell \u001b[0;32mIn[3], line 4\u001b[0m, in \u001b[0;36moz\u001b[0;34m(n, *values)\u001b[0m\n\u001b[1;32m      3\u001b[0m \u001b[38;5;28;01mdef\u001b[39;00m \u001b[38;5;21moz\u001b[39m(n\u001b[38;5;241m=\u001b[39m\u001b[38;5;241m3\u001b[39m,\u001b[38;5;241m*\u001b[39mvalues):\n\u001b[0;32m----> 4\u001b[0m     \u001b[38;5;28;01mfor\u001b[39;00m i \u001b[38;5;129;01min\u001b[39;00m \u001b[38;5;28;43mrange\u001b[39;49m\u001b[43m(\u001b[49m\u001b[43mn\u001b[49m\u001b[43m)\u001b[49m:\n\u001b[1;32m      5\u001b[0m         \u001b[38;5;28;01mfor\u001b[39;00m value \u001b[38;5;129;01min\u001b[39;00m values:\n\u001b[1;32m      6\u001b[0m             \u001b[38;5;28mprint\u001b[39m(value)\n",
      "\u001b[0;31mTypeError\u001b[0m: 'str' object cannot be interpreted as an integer"
     ]
    }
   ],
   "source": [
    "# 기본매개변수, 가변매개변수\n",
    "\n",
    "def oz(n=3,*values):\n",
    "    for i in range(n):\n",
    "        for value in values:\n",
    "            print(value)\n",
    "        print()\n",
    "\n",
    "oz(\"기본 매개변수 다음에\",\"가변 매개변수를\",\"넣을 수 있을까요?\")"
   ]
  },
  {
   "cell_type": "markdown",
   "metadata": {},
   "source": [
    "oz(\"기본 매개변수 다음에\",\"가변 매개변수를\",\"넣을 수 있을까요?\")\n",
    "n=\"기본 매개변수 다음에\"\n",
    "*values=\"가변 매개변수를\",\"넣을 수 있을까요?\"\n",
    "결국 기본 매개변수가 가변 매개변수보다 앞에 오게 되면 기본 매개변수는 의미가 없어짐\n",
    "\n",
    "그렇다면, 반대로 가변 매개변수가 기본 매개변수보다 앞에 오게되면?\n",
    "oz함수에 3개의 가변 매개변수와 하나의 기본 매개변수로 이루어진 값을 넣어보자."
   ]
  },
  {
   "cell_type": "code",
   "execution_count": 4,
   "metadata": {},
   "outputs": [
    {
     "name": "stdout",
     "output_type": "stream",
     "text": [
      "기본 매개변수 다음에\n",
      "가변 매개변수를\n",
      "넣을 수 있을까요?\n",
      "10\n",
      "\n",
      "기본 매개변수 다음에\n",
      "가변 매개변수를\n",
      "넣을 수 있을까요?\n",
      "10\n",
      "\n",
      "기본 매개변수 다음에\n",
      "가변 매개변수를\n",
      "넣을 수 있을까요?\n",
      "10\n",
      "\n"
     ]
    }
   ],
   "source": [
    "#(가변 매개변수, 기본 매개변수)\n",
    "\n",
    "def oz(*values,n=3):\n",
    "    for i in range(n):\n",
    "        for value in values:\n",
    "            print(value)\n",
    "        print()\n",
    "\n",
    "oz(\"기본 매개변수 다음에\",\"가변 매개변수를\",\"넣을 수 있을까요?\",10)"
   ]
  },
  {
   "cell_type": "markdown",
   "metadata": {},
   "source": [
    "기본 매개변수에 10을 넣으려 했으나 결과는 3번만 출력\n",
    "  \n",
    "oz() 함수 호출 시 입력된 매개변수들이 모두 가변 매개변수로 인식되어, oz() 함수 정의시 입력된 기본 매개변수 3이 적용\n",
    "  \n",
    "이런 문제를 해결하고자 나온 개념이 키워드 매개변수이다."
   ]
  },
  {
   "cell_type": "code",
   "execution_count": 2,
   "metadata": {},
   "outputs": [
    {
     "name": "stdout",
     "output_type": "stream",
     "text": [
      "안\n",
      "녕\n",
      "하\n",
      "세\n",
      "요\n"
     ]
    }
   ],
   "source": [
    "# end=\\n\n",
    "\n",
    "list=[\"안\",\"녕\",\"하\",\"세\",\"요\"]\n",
    "for i in list:\n",
    "    print(i)\n",
    "\n"
   ]
  },
  {
   "cell_type": "code",
   "execution_count": 6,
   "metadata": {},
   "outputs": [
    {
     "name": "stdout",
     "output_type": "stream",
     "text": [
      "안녕하세요"
     ]
    }
   ],
   "source": [
    "list=[\"안\",\"녕\",\"하\",\"세\",\"요\"]\n",
    "for i in list:\n",
    "    print(i,end=\"\")"
   ]
  },
  {
   "cell_type": "markdown",
   "metadata": {},
   "source": [
    "print() 함수를 호출할때는 i는 가변 매개변수로 입력되고 뒤에 나오는 end=\"\"는 기본 매개변ㄴ수가 된다.\n",
    "어떻게 가변 매개변수 뒤에 기본 매개변수가 올 수 있을까?\n",
    "\n",
    "앞서 예시 코드와 다른점은 end=\"\"라는 형식으로 값을 지정한 부분이다. \n",
    "end=\"\" 이 부분이 키워드 매개변수이다."
   ]
  },
  {
   "cell_type": "code",
   "execution_count": 5,
   "metadata": {},
   "outputs": [
    {
     "name": "stdout",
     "output_type": "stream",
     "text": [
      "2000\n",
      "1000\n",
      "125\n"
     ]
    }
   ],
   "source": [
    "# 직육면체 부피를 구하는 코드를 작성: 가로 x, 세로 y, 높이 h\n",
    "def oz(x,y=20,h=10):\n",
    "    print(x*y*h)\n",
    "\n",
    "# x식별자에 매개변수 10을 넣은 경우\n",
    "oz(10)\n",
    "\n",
    "# x식별자에 10을 넣고 y=10이라는 키워드 매개변수를 이용한 경우\n",
    "oz(10,y=10)\n",
    "\n",
    "# 모든 매개변수를 키워드 매개변수로 넣은 경우\n",
    "oz(x=5,y=5,h=5)"
   ]
  },
  {
   "cell_type": "markdown",
   "metadata": {},
   "source": []
  },
  {
   "cell_type": "markdown",
   "metadata": {},
   "source": [
    "키워드 매개변수는 이렇게 다양하게 사용될 수 있다.\n",
    "\n",
    "* 키워드 매개변수를 사용하는 이유\n",
    "* 키워드 매개변수 사용하기 위한 문법 설명"
   ]
  }
 ],
 "metadata": {
  "kernelspec": {
   "display_name": "Python 3",
   "language": "python",
   "name": "python3"
  },
  "language_info": {
   "codemirror_mode": {
    "name": "ipython",
    "version": 3
   },
   "file_extension": ".py",
   "mimetype": "text/x-python",
   "name": "python",
   "nbconvert_exporter": "python",
   "pygments_lexer": "ipython3",
   "version": "3.9.6"
  }
 },
 "nbformat": 4,
 "nbformat_minor": 2
}
