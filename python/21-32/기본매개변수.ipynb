{
 "cells": [
  {
   "cell_type": "markdown",
   "metadata": {},
   "source": [
    "print()함수 필요 매개변수\n",
    "\n",
    "(*values: object,sep: str|None=\" \",end:str| \n",
    "None=\"\\n\",file:SupportsWrite[str]|None=None, \n",
    "flush:Literal[False]=False)\n",
    "\n",
    "* value 뒤에 오는 매개변수인 sep.str|None=\" \",end:str|None=\"\\n\"들은\n",
    "마치 값을 할당하는 형태처럼 보이지만 이 매개변수들은 모두 기본 매개변수이다.\n",
    "\n",
    "기본 매개변수는 매개변수를 입력하지 않으면 함수 정의시 설정해 놓은 기본값으로 대체된다.\n",
    "기본매개변수는 기본적으로 설정해놓으면 따로 입력하지 않아도 자동 적용된다.\n",
    "기본 매개변수도 사용시에 제약이 있다.\n",
    "\n",
    "    * 기본 매개변수 뒤에는 일반 매개변수가 올 수 없다."
   ]
  },
  {
   "cell_type": "code",
   "execution_count": 1,
   "metadata": {},
   "outputs": [
    {
     "name": "stdout",
     "output_type": "stream",
     "text": [
      "일반 매개변수 다음에 기본 매개변수를 배치해야 합니다.\n",
      "일반 매개변수 다음에 기본 매개변수를 배치해야 합니다.\n"
     ]
    }
   ],
   "source": [
    "# 기본 매개변수는 일반 매개변수 다음에 올 수 있다.\n",
    "\n",
    "def oz(value, n=2):\n",
    "    for i in range(n):\n",
    "        print(value)\n",
    "\n",
    "oz(\"일반 매개변수 다음에 기본 매개변수를 배치해야 합니다.\")\n"
   ]
  },
  {
   "cell_type": "code",
   "execution_count": 2,
   "metadata": {},
   "outputs": [
    {
     "name": "stdout",
     "output_type": "stream",
     "text": [
      "일반 매개변수 다음에 기본 매개변수를 배치해야 합니다.\n",
      "일반 매개변수 다음에 기본 매개변수를 배치해야 합니다.\n",
      "일반 매개변수 다음에 기본 매개변수를 배치해야 합니다.\n",
      "일반 매개변수 다음에 기본 매개변수를 배치해야 합니다.\n",
      "일반 매개변수 다음에 기본 매개변수를 배치해야 합니다.\n",
      "일반 매개변수 다음에 기본 매개변수를 배치해야 합니다.\n",
      "일반 매개변수 다음에 기본 매개변수를 배치해야 합니다.\n",
      "일반 매개변수 다음에 기본 매개변수를 배치해야 합니다.\n",
      "일반 매개변수 다음에 기본 매개변수를 배치해야 합니다.\n",
      "일반 매개변수 다음에 기본 매개변수를 배치해야 합니다.\n"
     ]
    }
   ],
   "source": [
    "# 기본 매개변수 변경하기 \n",
    "\n",
    "def oz(value, n=2):\n",
    "    for i in range(n):\n",
    "        print(value)\n",
    "\n",
    "oz(\"일반 매개변수 다음에 기본 매개변수를 배치해야 합니다.\",n=10)"
   ]
  },
  {
   "cell_type": "markdown",
   "metadata": {},
   "source": [
    "oz() 함수에서 기본 매개변수 규칙에 맞춰 잘 사용했기 때문에 value 식별자에 넣을 값만 입력 후  \n",
    "함수 호출해도 오류가 발생하지 않고 정상적으로 작동."
   ]
  },
  {
   "cell_type": "code",
   "execution_count": 3,
   "metadata": {},
   "outputs": [
    {
     "ename": "SyntaxError",
     "evalue": "non-default argument follows default argument (4091298152.py, line 1)",
     "output_type": "error",
     "traceback": [
      "\u001b[0;36m  Cell \u001b[0;32mIn[3], line 1\u001b[0;36m\u001b[0m\n\u001b[0;31m    def oz(n=2,value):\u001b[0m\n\u001b[0m                    ^\u001b[0m\n\u001b[0;31mSyntaxError\u001b[0m\u001b[0;31m:\u001b[0m non-default argument follows default argument\n"
     ]
    }
   ],
   "source": [
    "# 기본 매개변수를 일반 매개변수 앞에 썼을 때\n",
    "\n",
    "def oz(n=2,value):\n",
    "    for i in range(n):\n",
    "        print(value)\n",
    "\n",
    "oz(\"일반 매개변수 다음에 기본 매개변수를 배치해야 합니다.\")"
   ]
  },
  {
   "cell_type": "markdown",
   "metadata": {},
   "source": [
    "* 기본 매개변수의 역할은?\n",
    "* 개본 매개변수를 사용하기 위한 문법은?\n",
    "* 기본 매개 변수 사용시 제약조건"
   ]
  }
 ],
 "metadata": {
  "kernelspec": {
   "display_name": "Python 3",
   "language": "python",
   "name": "python3"
  },
  "language_info": {
   "codemirror_mode": {
    "name": "ipython",
    "version": 3
   },
   "file_extension": ".py",
   "mimetype": "text/x-python",
   "name": "python",
   "nbconvert_exporter": "python",
   "pygments_lexer": "ipython3",
   "version": "3.9.6"
  }
 },
 "nbformat": 4,
 "nbformat_minor": 2
}
