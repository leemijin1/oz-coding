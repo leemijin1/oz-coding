{
 "cells": [
  {
   "cell_type": "code",
   "execution_count": 1,
   "metadata": {},
   "outputs": [
    {
     "name": "stdout",
     "output_type": "stream",
     "text": [
      "정답:banana\n",
      "\n",
      "_ _ _ _ _ _ \n",
      "\n",
      "틀렸습니다. 남은 시도 횟수: 9\n",
      "\n",
      "_ _ _ _ _ _ \n",
      "\n",
      "단어를 맞추셨군요. 더 힘내봐요\n",
      "\n",
      "b _ _ _ _ _ \n",
      "\n",
      "단어를 맞추셨군요. 더 힘내봐요\n",
      "\n",
      "b _ _ _ _ _ \n",
      "\n",
      "단어를 맞추셨군요. 더 힘내봐요\n",
      "\n",
      "b a _ a _ a \n",
      "\n",
      "단어를 맞추셨군요. 더 힘내봐요\n",
      "\n",
      "b a n a n a \n",
      "축하합니다! 단어를 맞추셨습니다.\n"
     ]
    }
   ],
   "source": [
    "from random import*\n",
    "words=[\"apple\", \"banana\", \"orange\", \"grape\", \"lemon\"]\n",
    "word=choice(words)\n",
    "print(\"정답:\"+word)\n",
    "letters=\"\"\n",
    "turns=10\n",
    "\n",
    "while turns>0:\n",
    "    failed=0\n",
    "    print()\n",
    "    for w in word:\n",
    "        if w in letters:\n",
    "            print(w,end=\" \")\n",
    "        else:\n",
    "            print(\"_\",end=\" \")\n",
    "            failed +=1\n",
    "    print()\n",
    "    if failed ==0:\n",
    "        print(\"축하합니다! 단어를 맞추셨습니다.\")\n",
    "        break\n",
    "    \n",
    "    print()\n",
    "    letter=input(\"입력하세요\")\n",
    "    letters +=letter\n",
    "    \n",
    "    if letter in word:\n",
    "        print(\"단어를 맞추셨군요. 더 힘내봐요\")\n",
    "    else:\n",
    "        turns -=1\n",
    "        print(\"틀렸습니다. 남은 시도 횟수:\",+turns)"
   ]
  }
 ],
 "metadata": {
  "kernelspec": {
   "display_name": "Python 3",
   "language": "python",
   "name": "python3"
  },
  "language_info": {
   "codemirror_mode": {
    "name": "ipython",
    "version": 3
   },
   "file_extension": ".py",
   "mimetype": "text/x-python",
   "name": "python",
   "nbconvert_exporter": "python",
   "pygments_lexer": "ipython3",
   "version": "3.9.6"
  }
 },
 "nbformat": 4,
 "nbformat_minor": 2
}
