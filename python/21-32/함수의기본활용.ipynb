{
 "cells": [
  {
   "cell_type": "markdown",
   "metadata": {},
   "source": [
    "return 까지 배운 지금 기본 함수의 구조는 이렇게 바뀔수 있다.\n",
    "\n",
    "def 함수(매개변수):\n",
    "    변수=초기값\n",
    "    for,if,while 등의 문법으로 변수 처리\n",
    "        ...\n",
    "    return 변수\n",
    "\n",
    "이러한 구조를 바탕으로 oz()함수를 만들어보자.\n",
    "\n",
    "요구조건\n",
    "    \n",
    "    *strart,end,multiple 3개 매개변수를 이용해 start부터 시작해 multiple씩 증가해 end에 도달하면 종료하는 함수\n",
    "    예) start=1, end=10, multiple=3 (출력)->1,4,7"
   ]
  },
  {
   "cell_type": "code",
   "execution_count": 11,
   "metadata": {},
   "outputs": [
    {
     "name": "stdout",
     "output_type": "stream",
     "text": [
      "1  4  7  \n",
      "1  6  11  16  21  26  31  36  41  46  \n",
      "10  20  30  40  50  60  70  80  90  \n"
     ]
    }
   ],
   "source": [
    "def oz(start,end,multiple):\n",
    "    for i in range(start,end,multiple):\n",
    "        print(i,\" \",end=\"\")\n",
    "    print()\n",
    "\n",
    "oz(1,10,3)  #일반 매개변수\n",
    "oz(start=1,end=50,multiple=5)   #키워드 매개변수\n",
    "oz(start=10,end=100,multiple=10)\n",
    "\n"
   ]
  },
  {
   "cell_type": "code",
   "execution_count": 14,
   "metadata": {},
   "outputs": [
    {
     "name": "stdout",
     "output_type": "stream",
     "text": [
      "1  4  7  \n",
      "1  4  7  10  13  16  19  22  25  28  31  34  37  40  43  46  49  \n",
      "1  11  21  31  41  51  61  71  81  91  \n"
     ]
    }
   ],
   "source": [
    "def oz(start=1,end=10,multiple=3):\n",
    "    for i in range(start,end,multiple):\n",
    "        print(i,\" \",end=\"\")\n",
    "    print()\n",
    "\n",
    "oz(1,10,3)  #일반 매개변수\n",
    "oz(end=50)   #매개변수 지정되어 있기 때문에 변경시킬 것만 입력\n",
    "oz(end=100,multiple=10)\n"
   ]
  }
 ],
 "metadata": {
  "kernelspec": {
   "display_name": "Python 3",
   "language": "python",
   "name": "python3"
  },
  "language_info": {
   "codemirror_mode": {
    "name": "ipython",
    "version": 3
   },
   "file_extension": ".py",
   "mimetype": "text/x-python",
   "name": "python",
   "nbconvert_exporter": "python",
   "pygments_lexer": "ipython3",
   "version": "3.9.6"
  }
 },
 "nbformat": 4,
 "nbformat_minor": 2
}
