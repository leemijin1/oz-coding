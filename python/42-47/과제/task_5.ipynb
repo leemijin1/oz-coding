{
 "cells": [
  {
   "cell_type": "markdown",
   "metadata": {},
   "source": [
    "[문제]\n",
    "\n",
    "'Account' 클래스를 작성하세요. \n",
    "\n",
    "이 클래스는 소유자(owner)와 잔액(balance)을 속성으로 가지며, 잔액은 프라이빗 변수로 선언합니다. \n",
    "\n",
    "'deposit'와 'withdraw' 두 개의 메소드를 통해 잔액을 조작할 수 있도록 하세요. \n",
    "\n",
    "이 때, 잔액은 음수가 될 수 없도록 체크해야 합니다. 'Account' 객체를 생성하고,<br>\n",
    "입금 및 출금 작업을 시뮬레이션한 후, 최종 잔액을 출력하세요."
   ]
  },
  {
   "cell_type": "code",
   "execution_count": 1,
   "metadata": {},
   "outputs": [
    {
     "name": "stdout",
     "output_type": "stream",
     "text": [
      "입금 성공\n",
      "출금 성공\n",
      "55000\n"
     ]
    }
   ],
   "source": [
    "class Account:\n",
    "    def __init__(self,owner,balance):\n",
    "        self.owner=owner\n",
    "        self.balance=balance\n",
    "    def deposit(self,amount):\n",
    "        if amount>0:\n",
    "            self.balance +=amount\n",
    "            print(\"입금 성공\")\n",
    "        else:\n",
    "            print(\"입금 실패\")\n",
    "\n",
    "    def withdraw(self,amount):\n",
    "        if 0<amount<=self.balance:\n",
    "            self.balance -=amount\n",
    "            print(\"출금 성공\")\n",
    "        else:\n",
    "            print(\"출금 실패\")\n",
    "    def get_balance(self):\n",
    "        return self.balance\n",
    "    \n",
    "account=Account(\"이미진\",50000)\n",
    "account.deposit(10000)\n",
    "account.withdraw(5000)\n",
    "print(account.get_balance())\n",
    "  "
   ]
  }
 ],
 "metadata": {
  "kernelspec": {
   "display_name": "Python 3",
   "language": "python",
   "name": "python3"
  },
  "language_info": {
   "codemirror_mode": {
    "name": "ipython",
    "version": 3
   },
   "file_extension": ".py",
   "mimetype": "text/x-python",
   "name": "python",
   "nbconvert_exporter": "python",
   "pygments_lexer": "ipython3",
   "version": "3.9.6"
  }
 },
 "nbformat": 4,
 "nbformat_minor": 2
}
