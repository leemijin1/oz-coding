{
 "cells": [
  {
   "cell_type": "code",
   "execution_count": null,
   "metadata": {},
   "outputs": [],
   "source": [
    "from random import*\n",
    "words=[\"apple\", \"banana\", \"orange\", \"grape\", \"lemon\"]\n",
    "word=choice(words)\n",
    "print(\"정답:\"+word)\n",
    "letters=\"\"\n",
    "turns=10\n",
    "\n",
    "while turns>0:\n",
    "    failed=0\n",
    "    print()\n",
    "    for w in word:\n",
    "        if w in letters:\n",
    "            print(w,end=\" \")\n",
    "        else:\n",
    "            print(\"_\",end=\" \")\n",
    "            failed +=1\n",
    "    print()\n",
    "    if failed ==0:\n",
    "        print(\"축하합니다! 단어를 맞추셨습니다.\")\n",
    "        break\n",
    "    \n",
    "    print()\n",
    "    letter=input(\"입력하세요\")\n",
    "    letters +=letter\n",
    "    \n",
    "    if letter in word:\n",
    "        print(\"단어를 맞추셨군요. 더 힘내봐요\")\n",
    "    else:\n",
    "        turns -=1\n",
    "        print(\"틀렸습니다. 남은 시도 횟수:\",+turns)"
   ]
  }
 ],
 "metadata": {
  "language_info": {
   "name": "python"
  }
 },
 "nbformat": 4,
 "nbformat_minor": 2
}
